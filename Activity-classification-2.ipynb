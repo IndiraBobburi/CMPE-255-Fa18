{
 "cells": [
  {
   "cell_type": "markdown",
   "metadata": {},
   "source": [
    "# Classification using Bayesian Classifier \n",
    "\n",
    "### Bayesian Classifiers\n",
    "These classifiers are \"probabilistic classifiers\" based on Bayes' theorem. Bayesian classifiers are highly scalable. They are often used when dimensionality of the inputs is high. \n",
    "\n",
    "### Types\n",
    "1. Naïve Bayes\n",
    "2. Bayesian Belief Network\n",
    "\n",
    "### Problem Statement\n",
    "\n",
    "UCI dataset: Skin Segmentation Data Set (https://archive.ics.uci.edu/ml/machine-learning-databases/00229/).\n",
    "The Skin Segmentation dataset is constructed over the B, G, R color space. Skin and Nonskin dataset is generated using skin textures from face images of people with diverse age, gender, and race. The task is to identify whether the BGR combination is a skin color or not.\n"
   ]
  },
  {
   "cell_type": "code",
   "execution_count": 133,
   "metadata": {},
   "outputs": [],
   "source": [
    "import numpy as np\n",
    "import pandas as pd\n",
    "from sklearn.model_selection import train_test_split\n",
    "from sklearn.naive_bayes import GaussianNB\n",
    "from sklearn.metrics import accuracy_score\n",
    "from sklearn.metrics import precision_recall_fscore_support"
   ]
  },
  {
   "cell_type": "markdown",
   "metadata": {},
   "source": [
    "Following code reads a text file into a dataframe. Modify the below code to split the values of B, G, R and class label into different columns. Each column must have a column name as specified below:\n",
    "\n",
    "```\n",
    "Column No.   Expected Column Name\n",
    "1            BLUE\n",
    "2            GREEN\n",
    "3            RED\n",
    "4            RESULT     \n",
    "```"
   ]
  },
  {
   "cell_type": "code",
   "execution_count": 134,
   "metadata": {},
   "outputs": [
    {
     "data": {
      "text/html": [
       "<div>\n",
       "<style scoped>\n",
       "    .dataframe tbody tr th:only-of-type {\n",
       "        vertical-align: middle;\n",
       "    }\n",
       "\n",
       "    .dataframe tbody tr th {\n",
       "        vertical-align: top;\n",
       "    }\n",
       "\n",
       "    .dataframe thead th {\n",
       "        text-align: right;\n",
       "    }\n",
       "</style>\n",
       "<table border=\"1\" class=\"dataframe\">\n",
       "  <thead>\n",
       "    <tr style=\"text-align: right;\">\n",
       "      <th></th>\n",
       "      <th>BLUE</th>\n",
       "      <th>GREEN</th>\n",
       "      <th>RED</th>\n",
       "      <th>RESULT</th>\n",
       "    </tr>\n",
       "  </thead>\n",
       "  <tbody>\n",
       "    <tr>\n",
       "      <th>0</th>\n",
       "      <td>74</td>\n",
       "      <td>85</td>\n",
       "      <td>123</td>\n",
       "      <td>1</td>\n",
       "    </tr>\n",
       "    <tr>\n",
       "      <th>1</th>\n",
       "      <td>73</td>\n",
       "      <td>84</td>\n",
       "      <td>122</td>\n",
       "      <td>1</td>\n",
       "    </tr>\n",
       "    <tr>\n",
       "      <th>2</th>\n",
       "      <td>72</td>\n",
       "      <td>83</td>\n",
       "      <td>121</td>\n",
       "      <td>1</td>\n",
       "    </tr>\n",
       "    <tr>\n",
       "      <th>3</th>\n",
       "      <td>70</td>\n",
       "      <td>81</td>\n",
       "      <td>119</td>\n",
       "      <td>1</td>\n",
       "    </tr>\n",
       "    <tr>\n",
       "      <th>4</th>\n",
       "      <td>70</td>\n",
       "      <td>81</td>\n",
       "      <td>119</td>\n",
       "      <td>1</td>\n",
       "    </tr>\n",
       "  </tbody>\n",
       "</table>\n",
       "</div>"
      ],
      "text/plain": [
       "   BLUE  GREEN  RED  RESULT\n",
       "0    74     85  123       1\n",
       "1    73     84  122       1\n",
       "2    72     83  121       1\n",
       "3    70     81  119       1\n",
       "4    70     81  119       1"
      ]
     },
     "execution_count": 134,
     "metadata": {},
     "output_type": "execute_result"
    }
   ],
   "source": [
    "df = pd.read_csv(\n",
    "    filepath_or_buffer='data/Skin_NonSkin.txt', sep='\\t', names=['BLUE', 'GREEN', 'RED', 'RESULT'])\n",
    "df[:5]"
   ]
  },
  {
   "cell_type": "markdown",
   "metadata": {},
   "source": [
    "Write some code to define X and y dataframes containing R G B components in X and the class in y. Then these will be used to split the data into test / train data. We will be using the Test-Train Split in order to calculate the accuracy of a classification model."
   ]
  },
  {
   "cell_type": "code",
   "execution_count": 135,
   "metadata": {},
   "outputs": [],
   "source": [
    "# Write your code here\n",
    "X = df[['BLUE','GREEN','RED']]\n",
    "#X = df.iloc[:,0:3]\n",
    "y = df[['RESULT']]\n",
    "X_train, X_test, y_train, y_test = train_test_split(X, y, test_size=0.25, random_state=42)"
   ]
  },
  {
   "cell_type": "markdown",
   "metadata": {},
   "source": [
    "The code in the next cell is used to classify the test data by following the steps below:\n",
    "    1. Import Gaussian Naïve Bayes Classifier\n",
    "    2. Fit the model with training data (X: attributes and y:labels)\n",
    "    3. Use the trained model to predict labels of test data (X_test)\n",
    "    4. Calculate the accuracy score using actual labels (y_test) and predicted labels (y_pred)"
   ]
  },
  {
   "cell_type": "code",
   "execution_count": 136,
   "metadata": {
    "scrolled": true
   },
   "outputs": [
    {
     "data": {
      "text/plain": [
       "0.9239206724883702"
      ]
     },
     "execution_count": 136,
     "metadata": {},
     "output_type": "execute_result"
    }
   ],
   "source": [
    "gnb = GaussianNB()\n",
    "y_pred = gnb.fit(X_train, np.ravel(y_train)).predict(X_test)\n",
    "accuracy_score(np.ravel(y_test), y_pred)"
   ]
  },
  {
   "cell_type": "markdown",
   "metadata": {},
   "source": [
    "Write some code to calculate Precision, Recall and F-score of the results obtained using the given GaussianNB classification model.\n"
   ]
  },
  {
   "cell_type": "code",
   "execution_count": 137,
   "metadata": {},
   "outputs": [
    {
     "name": "stdout",
     "output_type": "stream",
     "text": [
      "precision for skin color value as 1 =  0.8738865447726207\n",
      "recall for skin color value as 1 =  0.7375751820196265\n",
      "f_score for skin color value as 1 =  0.7999656667095834\n",
      " ------------------------------------------------------ \n",
      "precision for skin color value as 2 =  0.9344664031620553\n",
      "recall for skin color value as 2 =  0.9723416068601041\n",
      "f_score for skin color value as 2 =  0.953027844682502\n"
     ]
    }
   ],
   "source": [
    "#y_test_array = np.array(y_test['RESULT'])\n",
    "precision, recall, f_score, _ = precision_recall_fscore_support(np.ravel(y_test), y_pred, average='binary', pos_label=1)\n",
    "print(\"precision for skin color value as 1 = \", precision)\n",
    "print(\"recall for skin color value as 1 = \", recall)\n",
    "print(\"f_score for skin color value as 1 = \", f_score)\n",
    "print(\" ------------------------------------------------------ \")\n",
    "precision, recall, f_score, _ = precision_recall_fscore_support(np.ravel(y_test), y_pred, average='binary', pos_label=2)\n",
    "print(\"precision for skin color value as 2 = \", precision)\n",
    "print(\"recall for skin color value as 2 = \", recall)\n",
    "print(\"f_score for skin color value as 2 = \", f_score)"
   ]
  },
  {
   "cell_type": "markdown",
   "metadata": {},
   "source": [
    "Write some code to classify X_train and y_train using Multinomial Naive Bayes Classifier or Bernoulli Naive Bayes Classifier. Calculate the accuracy, precision, recall and f1-score values for your trained model. Use the scikit learn library for this task."
   ]
  },
  {
   "cell_type": "code",
   "execution_count": 148,
   "metadata": {},
   "outputs": [
    {
     "name": "stdout",
     "output_type": "stream",
     "text": [
      "precision for skin color value as 1 =  0.0\n",
      "recall for skin color value as 1 =  0.0\n",
      "f_score for skin color value as 1 =  0.0\n",
      " ------------------------------------------------------ \n",
      "precision for skin color value as 2 =  0.7937484697625071\n",
      "recall for skin color value as 2 =  1.0\n",
      "f_score for skin color value as 2 =  0.8850164704169473\n"
     ]
    },
    {
     "name": "stderr",
     "output_type": "stream",
     "text": [
      "/anaconda3/lib/python3.6/site-packages/sklearn/metrics/classification.py:1135: UndefinedMetricWarning: Precision and F-score are ill-defined and being set to 0.0 due to no predicted samples.\n",
      "  'precision', 'predicted', average, warn_for)\n"
     ]
    }
   ],
   "source": [
    "bnb = BernoulliNB(alpha=1.0)\n",
    "y_pred = bnb.fit(X_train, np.ravel(y_train)).predict(X_test)\n",
    "#print(y_pred[1500:2500])\n",
    "precision, recall, f_score, _ = precision_recall_fscore_support(np.ravel(y_test), y_pred, average='binary', pos_label=1)\n",
    "print(\"precision for skin color value as 1 = \", precision)\n",
    "print(\"recall for skin color value as 1 = \", recall)\n",
    "print(\"f_score for skin color value as 1 = \", f_score)\n",
    "print(\" ------------------------------------------------------ \")\n",
    "precision, recall, f_score, _ = precision_recall_fscore_support(np.ravel(y_test), y_pred, average='binary', pos_label=2)\n",
    "print(\"precision for skin color value as 2 = \", precision)\n",
    "print(\"recall for skin color value as 2 = \", recall)\n",
    "print(\"f_score for skin color value as 2 = \", f_score)"
   ]
  },
  {
   "cell_type": "code",
   "execution_count": null,
   "metadata": {},
   "outputs": [],
   "source": []
  }
 ],
 "metadata": {
  "kernelspec": {
   "display_name": "Python 2",
   "language": "python",
   "name": "python2"
  },
  "language_info": {
   "codemirror_mode": {
    "name": "ipython",
    "version": 3
   },
   "file_extension": ".py",
   "mimetype": "text/x-python",
   "name": "python",
   "nbconvert_exporter": "python",
   "pygments_lexer": "ipython3",
   "version": "3.6.5"
  }
 },
 "nbformat": 4,
 "nbformat_minor": 2
}
